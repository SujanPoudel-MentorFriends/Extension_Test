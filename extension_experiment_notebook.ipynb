{
 "cells": [
  {
   "cell_type": "code",
   "execution_count": 9,
   "metadata": {},
   "outputs": [
    {
     "name": "stdout",
     "output_type": "stream",
     "text": [
      "{'linkedin': {'image': 'pv-top-card-profile-picture__image--show', 'about_exper_educ': 'artdeco-card break-words', 'username': '.text-heading-xlarge', 'location': '.text-body-small.inline.t-black--light.break-words', 'appendable_boom_dom': 'ul > .text-body-small', 'contact_type': 'pv-contact-info__contact-type', 'contactInfoLink': 'top-card-text-details-contact-info', 'contactInfoElements': 'artdeco-modal artdeco-modal--layer-default', 'OverlayElements': 'artdeco-modal-overlay--is-top-layer', 'closeModal': '.artdeco-modal__dismiss'}}\n"
     ]
    }
   ],
   "source": [
    "import requests\n",
    "from bs4 import BeautifulSoup\n",
    "from selenium import webdriver\n",
    "from selenium.webdriver.chrome.options import Options\n",
    "from selenium.webdriver.common.by import By\n",
    "from selenium.webdriver.support.ui import WebDriverWait\n",
    "from selenium.webdriver.support import expected_conditions as EC\n",
    "from time import sleep\n",
    "\n",
    "# API endpoint\n",
    "url = \"https://theta.boomconcole.com/api/v1/extension-dom\"\n",
    "\n",
    "linkedin_dummy = {\n",
    "    \"full_name\": \"Saugat Singh\",\n",
    "    \"phone\": \"9779814641008\",\n",
    "    \"location\": \"Nepal\",\n",
    "    \"link\": \"https://www.linkedin.com/in/saugatsingh/\",\n",
    "    \"about\": (\n",
    "        \"With over 7 years of expertise in driving innovation through machine learning, cloud computing, and \"\n",
    "        \"full-stack development, an accomplished Computer Engineering professional specializes in machine learning, \"\n",
    "        \"deep learning, computer vision, and natural language processing. Notable accomplishments include published \"\n",
    "        \"research in prestigious journals and conferences, demonstrating proficiency in Agile project management, \"\n",
    "        \"cloud deployment, and full-stack versatility across Python, JavaScript, and more. Renowned for swiftly \"\n",
    "        \"prototyping POCs and delivering scalable, high-performance software systems aligned with business objectives. \"\n",
    "        \"Certified in Fundamentals of Deep Learning, Deep Learning with PyTorch, and Proficiency in Information System \"\n",
    "        \"Management. Key projects include leading solution architecture and development for a London startup, employing \"\n",
    "        \"technologies such as FastAPI for backend APIs, GCP for cloud infrastructure, and React for responsive \"\n",
    "        \"frontends, yielding impactful outcomes. Open to new opportunities for leveraging ML/AI and full-stack skills.\"\n",
    "    ),\n",
    "}\n",
    "\n",
    "try:\n",
    "    response = requests.get(url=url)\n",
    "    response.raise_for_status()  # Raise an HTTPError for bad responses (4xx and 5xx)\n",
    "    data = response.json()\n",
    "    print(data[4])\n",
    "\n",
    "except requests.exceptions.HTTPError as http_err:\n",
    "    print(f\"HTTP error occurred: {http_err}\")\n",
    "except Exception as err:\n",
    "    print(f\"An error occurred: {err}\")"
   ]
  },
  {
   "cell_type": "code",
   "execution_count": 8,
   "metadata": {},
   "outputs": [],
   "source": []
  },
  {
   "cell_type": "code",
   "execution_count": null,
   "metadata": {},
   "outputs": [],
   "source": []
  }
 ],
 "metadata": {
  "kernelspec": {
   "display_name": "selenium",
   "language": "python",
   "name": "python3"
  },
  "language_info": {
   "codemirror_mode": {
    "name": "ipython",
    "version": 3
   },
   "file_extension": ".py",
   "mimetype": "text/x-python",
   "name": "python",
   "nbconvert_exporter": "python",
   "pygments_lexer": "ipython3",
   "version": "3.12.4"
  }
 },
 "nbformat": 4,
 "nbformat_minor": 2
}
